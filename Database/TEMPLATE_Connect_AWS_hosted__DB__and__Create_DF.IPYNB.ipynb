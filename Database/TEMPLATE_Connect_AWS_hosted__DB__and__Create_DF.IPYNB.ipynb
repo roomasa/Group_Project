{
 "cells": [
  {
   "cell_type": "code",
   "execution_count": 13,
   "metadata": {
    "ExecuteTime": {
     "end_time": "2021-05-27T14:04:18.694369Z",
     "start_time": "2021-05-27T14:04:15.945293Z"
    }
   },
   "outputs": [
    {
     "name": "stdout",
     "output_type": "stream",
     "text": [
      "Requirement already satisfied: psycopg2-binary in /Users/quinndye/opt/anaconda3/envs/mlenv/lib/python3.7/site-packages (2.8.6)\n",
      "Requirement already satisfied: pandas in /Users/quinndye/opt/anaconda3/envs/mlenv/lib/python3.7/site-packages (1.1.3)\n",
      "Requirement already satisfied: pytz>=2017.2 in /Users/quinndye/opt/anaconda3/envs/mlenv/lib/python3.7/site-packages (from pandas) (2020.1)\n",
      "Requirement already satisfied: numpy>=1.15.4 in /Users/quinndye/opt/anaconda3/envs/mlenv/lib/python3.7/site-packages (from pandas) (1.19.2)\n",
      "Requirement already satisfied: python-dateutil>=2.7.3 in /Users/quinndye/opt/anaconda3/envs/mlenv/lib/python3.7/site-packages (from pandas) (2.8.1)\n",
      "Requirement already satisfied: six>=1.5 in /Users/quinndye/opt/anaconda3/envs/mlenv/lib/python3.7/site-packages (from python-dateutil>=2.7.3->pandas) (1.15.0)\n"
     ]
    }
   ],
   "source": [
    "import sys\n",
    "!{sys.executable} -m pip install psycopg2-binary\n",
    "!{sys.executable} -m pip install pandas"
   ]
  },
  {
   "cell_type": "code",
   "execution_count": 14,
   "metadata": {
    "ExecuteTime": {
     "end_time": "2021-05-27T14:04:19.911046Z",
     "start_time": "2021-05-27T14:04:19.584697Z"
    }
   },
   "outputs": [],
   "source": [
    "import pandas as pd\n",
    "import psycopg2"
   ]
  },
  {
   "cell_type": "code",
   "execution_count": 15,
   "metadata": {
    "ExecuteTime": {
     "end_time": "2021-05-27T14:04:20.566946Z",
     "start_time": "2021-05-27T14:04:20.564245Z"
    }
   },
   "outputs": [],
   "source": [
    "PGHOST = \"happinesscensus.cnbuz9nrfajq.us-east-1.rds.amazonaws.com\"\n",
    "PGDATABASE = \"Happiness\"\n",
    "PGUSER = 'postgres'\n",
    "PGPASSWORD = '*********'"
   ]
  },
  {
   "cell_type": "code",
   "execution_count": 16,
   "metadata": {
    "ExecuteTime": {
     "end_time": "2021-05-27T14:04:27.814779Z",
     "start_time": "2021-05-27T14:04:27.811416Z"
    }
   },
   "outputs": [],
   "source": [
    "def connect():\n",
    "    \n",
    "    # Set up a connection to the postgres server.\n",
    "    conn_string = \"host=\"+ PGHOST +\" port=\"+ \"5432\" +\" dbname=\"+ PGDATABASE +\" user=\" + PGUSER \\\n",
    "                  +\" password=\"+ PGPASSWORD\n",
    "    \n",
    "    conn = psycopg2.connect(conn_string)\n",
    "    print(\"Connected!\")\n",
    "\n",
    "    # Create a cursor object\n",
    "    cursor = conn.cursor()\n",
    "    \n",
    "    return conn, cursor"
   ]
  },
  {
   "cell_type": "code",
   "execution_count": 17,
   "metadata": {
    "ExecuteTime": {
     "end_time": "2021-05-27T14:04:54.013078Z",
     "start_time": "2021-05-27T14:04:52.362318Z"
    }
   },
   "outputs": [
    {
     "name": "stdout",
     "output_type": "stream",
     "text": [
      "Connected!\n"
     ]
    }
   ],
   "source": [
    "conn, cursor = connect()"
   ]
  },
  {
   "cell_type": "code",
   "execution_count": 18,
   "metadata": {
    "ExecuteTime": {
     "end_time": "2021-05-27T14:04:56.067814Z",
     "start_time": "2021-05-27T14:04:56.064824Z"
    }
   },
   "outputs": [],
   "source": [
    "# census\n",
    "query_for_fetching_from_census_table = \"\"\"SELECT * FROM census;\"\"\"\n",
    "\n",
    "# happiness\n",
    "query_for_fetching_from_happiness_table = \"\"\"SELECT * FROM happiness;\"\"\"\n",
    "\n",
    "# clean_combined_df\n",
    "query_for_fetching_from_clean_combined_df_table = \"\"\"SELECT * FROM clean_combined_df;\"\"\""
   ]
  },
  {
   "cell_type": "code",
   "execution_count": 19,
   "metadata": {
    "ExecuteTime": {
     "end_time": "2021-05-27T14:05:01.450246Z",
     "start_time": "2021-05-27T14:05:01.445644Z"
    }
   },
   "outputs": [],
   "source": [
    "def get_dataframe(cursor, query):\n",
    "    cursor.execute(query)\n",
    "    rows = cursor.fetchall()\n",
    "    \n",
    "    columns = [ col[0] for col in cursor.description ]\n",
    "     \n",
    "    df = pd.DataFrame(rows, columns=columns)\n",
    "    return df"
   ]
  },
  {
   "cell_type": "code",
   "execution_count": 20,
   "metadata": {
    "ExecuteTime": {
     "end_time": "2021-05-27T14:05:09.280385Z",
     "start_time": "2021-05-27T14:05:04.330435Z"
    },
    "scrolled": true
   },
   "outputs": [
    {
     "name": "stdout",
     "output_type": "stream",
     "text": [
      "CPU times: user 735 ms, sys: 329 ms, total: 1.06 s\n",
      "Wall time: 4.78 s\n"
     ]
    }
   ],
   "source": [
    "%%time\n",
    "df_census = get_dataframe(cursor, query_for_fetching_from_census_table)\n",
    "df_happiness = get_dataframe(cursor, query_for_fetching_from_happiness_table)\n",
    "df_clean_combined = get_dataframe(cursor, query_for_fetching_from_clean_combined_df_table)"
   ]
  },
  {
   "cell_type": "code",
   "execution_count": 21,
   "metadata": {
    "ExecuteTime": {
     "end_time": "2021-05-27T14:05:10.558552Z",
     "start_time": "2021-05-27T14:05:10.534284Z"
    }
   },
   "outputs": [
    {
     "data": {
      "text/html": [
       "<div>\n",
       "<style scoped>\n",
       "    .dataframe tbody tr th:only-of-type {\n",
       "        vertical-align: middle;\n",
       "    }\n",
       "\n",
       "    .dataframe tbody tr th {\n",
       "        vertical-align: top;\n",
       "    }\n",
       "\n",
       "    .dataframe thead th {\n",
       "        text-align: right;\n",
       "    }\n",
       "</style>\n",
       "<table border=\"1\" class=\"dataframe\">\n",
       "  <thead>\n",
       "    <tr style=\"text-align: right;\">\n",
       "      <th></th>\n",
       "      <th>census_id</th>\n",
       "      <th>age</th>\n",
       "      <th>workclass</th>\n",
       "      <th>fnlwgt</th>\n",
       "      <th>education</th>\n",
       "      <th>education_num</th>\n",
       "      <th>marital_status</th>\n",
       "      <th>occupation</th>\n",
       "      <th>relationship</th>\n",
       "      <th>race</th>\n",
       "      <th>sex</th>\n",
       "      <th>capital_gain</th>\n",
       "      <th>capital_loss</th>\n",
       "      <th>hours_per_week</th>\n",
       "      <th>income</th>\n",
       "      <th>country</th>\n",
       "    </tr>\n",
       "  </thead>\n",
       "  <tbody>\n",
       "    <tr>\n",
       "      <th>0</th>\n",
       "      <td>00001</td>\n",
       "      <td>25</td>\n",
       "      <td>Private</td>\n",
       "      <td>226802</td>\n",
       "      <td>11th</td>\n",
       "      <td>7</td>\n",
       "      <td>Never-married</td>\n",
       "      <td>Machine-op-inspct</td>\n",
       "      <td>Own-child</td>\n",
       "      <td>Black</td>\n",
       "      <td>Male</td>\n",
       "      <td>0</td>\n",
       "      <td>0</td>\n",
       "      <td>40</td>\n",
       "      <td>&lt;=50K</td>\n",
       "      <td>United States</td>\n",
       "    </tr>\n",
       "    <tr>\n",
       "      <th>1</th>\n",
       "      <td>00002</td>\n",
       "      <td>38</td>\n",
       "      <td>Private</td>\n",
       "      <td>89814</td>\n",
       "      <td>HS-grad</td>\n",
       "      <td>9</td>\n",
       "      <td>Married-civ-spouse</td>\n",
       "      <td>Farming-fishing</td>\n",
       "      <td>Husband</td>\n",
       "      <td>White</td>\n",
       "      <td>Male</td>\n",
       "      <td>0</td>\n",
       "      <td>0</td>\n",
       "      <td>50</td>\n",
       "      <td>&lt;=50K</td>\n",
       "      <td>United States</td>\n",
       "    </tr>\n",
       "    <tr>\n",
       "      <th>2</th>\n",
       "      <td>00003</td>\n",
       "      <td>28</td>\n",
       "      <td>Local-gov</td>\n",
       "      <td>336951</td>\n",
       "      <td>Assoc-acdm</td>\n",
       "      <td>12</td>\n",
       "      <td>Married-civ-spouse</td>\n",
       "      <td>Protective-serv</td>\n",
       "      <td>Husband</td>\n",
       "      <td>White</td>\n",
       "      <td>Male</td>\n",
       "      <td>0</td>\n",
       "      <td>0</td>\n",
       "      <td>40</td>\n",
       "      <td>&gt;50K</td>\n",
       "      <td>United States</td>\n",
       "    </tr>\n",
       "    <tr>\n",
       "      <th>3</th>\n",
       "      <td>00004</td>\n",
       "      <td>44</td>\n",
       "      <td>Private</td>\n",
       "      <td>160323</td>\n",
       "      <td>Some-college</td>\n",
       "      <td>10</td>\n",
       "      <td>Married-civ-spouse</td>\n",
       "      <td>Machine-op-inspct</td>\n",
       "      <td>Husband</td>\n",
       "      <td>Black</td>\n",
       "      <td>Male</td>\n",
       "      <td>7688</td>\n",
       "      <td>0</td>\n",
       "      <td>40</td>\n",
       "      <td>&gt;50K</td>\n",
       "      <td>United States</td>\n",
       "    </tr>\n",
       "    <tr>\n",
       "      <th>4</th>\n",
       "      <td>00005</td>\n",
       "      <td>18</td>\n",
       "      <td>Unknown</td>\n",
       "      <td>103497</td>\n",
       "      <td>Some-college</td>\n",
       "      <td>10</td>\n",
       "      <td>Never-married</td>\n",
       "      <td>Unknown</td>\n",
       "      <td>Own-child</td>\n",
       "      <td>White</td>\n",
       "      <td>Female</td>\n",
       "      <td>0</td>\n",
       "      <td>0</td>\n",
       "      <td>30</td>\n",
       "      <td>&lt;=50K</td>\n",
       "      <td>United States</td>\n",
       "    </tr>\n",
       "  </tbody>\n",
       "</table>\n",
       "</div>"
      ],
      "text/plain": [
       "  census_id age  workclass  fnlwgt     education education_num  \\\n",
       "0     00001  25    Private  226802          11th             7   \n",
       "1     00002  38    Private   89814       HS-grad             9   \n",
       "2     00003  28  Local-gov  336951    Assoc-acdm            12   \n",
       "3     00004  44    Private  160323  Some-college            10   \n",
       "4     00005  18    Unknown  103497  Some-college            10   \n",
       "\n",
       "       marital_status         occupation relationship   race     sex  \\\n",
       "0       Never-married  Machine-op-inspct    Own-child  Black    Male   \n",
       "1  Married-civ-spouse    Farming-fishing      Husband  White    Male   \n",
       "2  Married-civ-spouse    Protective-serv      Husband  White    Male   \n",
       "3  Married-civ-spouse  Machine-op-inspct      Husband  Black    Male   \n",
       "4       Never-married            Unknown    Own-child  White  Female   \n",
       "\n",
       "  capital_gain capital_loss hours_per_week income        country  \n",
       "0            0            0             40  <=50K  United States  \n",
       "1            0            0             50  <=50K  United States  \n",
       "2            0            0             40   >50K  United States  \n",
       "3         7688            0             40   >50K  United States  \n",
       "4            0            0             30  <=50K  United States  "
      ]
     },
     "execution_count": 21,
     "metadata": {},
     "output_type": "execute_result"
    }
   ],
   "source": [
    "df_census.head()"
   ]
  },
  {
   "cell_type": "code",
   "execution_count": 22,
   "metadata": {
    "ExecuteTime": {
     "end_time": "2021-05-27T14:05:11.701374Z",
     "start_time": "2021-05-27T14:05:11.697137Z"
    }
   },
   "outputs": [
    {
     "data": {
      "text/plain": [
       "(48842, 16)"
      ]
     },
     "execution_count": 22,
     "metadata": {},
     "output_type": "execute_result"
    }
   ],
   "source": [
    "df_census.shape"
   ]
  },
  {
   "cell_type": "code",
   "execution_count": 23,
   "metadata": {
    "ExecuteTime": {
     "end_time": "2021-05-27T14:05:12.367006Z",
     "start_time": "2021-05-27T14:05:12.347001Z"
    }
   },
   "outputs": [
    {
     "data": {
      "text/html": [
       "<div>\n",
       "<style scoped>\n",
       "    .dataframe tbody tr th:only-of-type {\n",
       "        vertical-align: middle;\n",
       "    }\n",
       "\n",
       "    .dataframe tbody tr th {\n",
       "        vertical-align: top;\n",
       "    }\n",
       "\n",
       "    .dataframe thead th {\n",
       "        text-align: right;\n",
       "    }\n",
       "</style>\n",
       "<table border=\"1\" class=\"dataframe\">\n",
       "  <thead>\n",
       "    <tr style=\"text-align: right;\">\n",
       "      <th></th>\n",
       "      <th>report_id</th>\n",
       "      <th>census_id</th>\n",
       "      <th>country</th>\n",
       "      <th>ladder_score</th>\n",
       "      <th>gdp</th>\n",
       "      <th>social_support</th>\n",
       "      <th>life_expectancy</th>\n",
       "      <th>freedom_of_choice</th>\n",
       "      <th>generosity</th>\n",
       "      <th>perceived_corruption</th>\n",
       "      <th>ladder_score_dystopia</th>\n",
       "      <th>explained_by_gdp</th>\n",
       "      <th>explained_by_social_support</th>\n",
       "      <th>explained_by_life_expectancy</th>\n",
       "      <th>explained_by_freedom_of_choice</th>\n",
       "      <th>explained_by_generosity</th>\n",
       "      <th>explained_by_perceived_corruption</th>\n",
       "      <th>dystopiaplusresidual</th>\n",
       "    </tr>\n",
       "  </thead>\n",
       "  <tbody>\n",
       "    <tr>\n",
       "      <th>0</th>\n",
       "      <td>00001</td>\n",
       "      <td>00001</td>\n",
       "      <td>Afghanistan</td>\n",
       "      <td>2.523</td>\n",
       "      <td>7.695</td>\n",
       "      <td>0.463</td>\n",
       "      <td>52.493</td>\n",
       "      <td>0.382</td>\n",
       "      <td>-0.102</td>\n",
       "      <td>0.924</td>\n",
       "      <td>2.430</td>\n",
       "      <td>0.370</td>\n",
       "      <td>0.000</td>\n",
       "      <td>0.126</td>\n",
       "      <td>0.000</td>\n",
       "      <td>0.122</td>\n",
       "      <td>0.010</td>\n",
       "      <td>1.895</td>\n",
       "    </tr>\n",
       "    <tr>\n",
       "      <th>1</th>\n",
       "      <td>00002</td>\n",
       "      <td>00002</td>\n",
       "      <td>Albania</td>\n",
       "      <td>5.117</td>\n",
       "      <td>9.520</td>\n",
       "      <td>0.697</td>\n",
       "      <td>68.999</td>\n",
       "      <td>0.785</td>\n",
       "      <td>-0.030</td>\n",
       "      <td>0.901</td>\n",
       "      <td>2.430</td>\n",
       "      <td>1.008</td>\n",
       "      <td>0.529</td>\n",
       "      <td>0.646</td>\n",
       "      <td>0.491</td>\n",
       "      <td>0.168</td>\n",
       "      <td>0.024</td>\n",
       "      <td>2.250</td>\n",
       "    </tr>\n",
       "    <tr>\n",
       "      <th>2</th>\n",
       "      <td>00003</td>\n",
       "      <td>00003</td>\n",
       "      <td>Algeria</td>\n",
       "      <td>4.887</td>\n",
       "      <td>9.342</td>\n",
       "      <td>0.802</td>\n",
       "      <td>66.005</td>\n",
       "      <td>0.480</td>\n",
       "      <td>-0.067</td>\n",
       "      <td>0.752</td>\n",
       "      <td>2.430</td>\n",
       "      <td>0.946</td>\n",
       "      <td>0.765</td>\n",
       "      <td>0.552</td>\n",
       "      <td>0.119</td>\n",
       "      <td>0.144</td>\n",
       "      <td>0.120</td>\n",
       "      <td>2.242</td>\n",
       "    </tr>\n",
       "    <tr>\n",
       "      <th>3</th>\n",
       "      <td>00004</td>\n",
       "      <td>00004</td>\n",
       "      <td>Argentina</td>\n",
       "      <td>5.929</td>\n",
       "      <td>9.962</td>\n",
       "      <td>0.898</td>\n",
       "      <td>69.000</td>\n",
       "      <td>0.828</td>\n",
       "      <td>-0.182</td>\n",
       "      <td>0.834</td>\n",
       "      <td>2.430</td>\n",
       "      <td>1.162</td>\n",
       "      <td>0.980</td>\n",
       "      <td>0.646</td>\n",
       "      <td>0.544</td>\n",
       "      <td>0.069</td>\n",
       "      <td>0.067</td>\n",
       "      <td>2.461</td>\n",
       "    </tr>\n",
       "    <tr>\n",
       "      <th>4</th>\n",
       "      <td>00005</td>\n",
       "      <td>00005</td>\n",
       "      <td>Armenia</td>\n",
       "      <td>5.283</td>\n",
       "      <td>9.487</td>\n",
       "      <td>0.799</td>\n",
       "      <td>67.055</td>\n",
       "      <td>0.825</td>\n",
       "      <td>-0.168</td>\n",
       "      <td>0.629</td>\n",
       "      <td>2.430</td>\n",
       "      <td>0.996</td>\n",
       "      <td>0.758</td>\n",
       "      <td>0.585</td>\n",
       "      <td>0.540</td>\n",
       "      <td>0.079</td>\n",
       "      <td>0.198</td>\n",
       "      <td>2.127</td>\n",
       "    </tr>\n",
       "  </tbody>\n",
       "</table>\n",
       "</div>"
      ],
      "text/plain": [
       "  report_id census_id      country ladder_score    gdp social_support  \\\n",
       "0     00001     00001  Afghanistan        2.523  7.695          0.463   \n",
       "1     00002     00002      Albania        5.117  9.520          0.697   \n",
       "2     00003     00003      Algeria        4.887  9.342          0.802   \n",
       "3     00004     00004    Argentina        5.929  9.962          0.898   \n",
       "4     00005     00005      Armenia        5.283  9.487          0.799   \n",
       "\n",
       "  life_expectancy freedom_of_choice generosity perceived_corruption  \\\n",
       "0          52.493             0.382     -0.102                0.924   \n",
       "1          68.999             0.785     -0.030                0.901   \n",
       "2          66.005             0.480     -0.067                0.752   \n",
       "3          69.000             0.828     -0.182                0.834   \n",
       "4          67.055             0.825     -0.168                0.629   \n",
       "\n",
       "  ladder_score_dystopia explained_by_gdp explained_by_social_support  \\\n",
       "0                 2.430            0.370                       0.000   \n",
       "1                 2.430            1.008                       0.529   \n",
       "2                 2.430            0.946                       0.765   \n",
       "3                 2.430            1.162                       0.980   \n",
       "4                 2.430            0.996                       0.758   \n",
       "\n",
       "  explained_by_life_expectancy explained_by_freedom_of_choice  \\\n",
       "0                        0.126                          0.000   \n",
       "1                        0.646                          0.491   \n",
       "2                        0.552                          0.119   \n",
       "3                        0.646                          0.544   \n",
       "4                        0.585                          0.540   \n",
       "\n",
       "  explained_by_generosity explained_by_perceived_corruption  \\\n",
       "0                   0.122                             0.010   \n",
       "1                   0.168                             0.024   \n",
       "2                   0.144                             0.120   \n",
       "3                   0.069                             0.067   \n",
       "4                   0.079                             0.198   \n",
       "\n",
       "  dystopiaplusresidual  \n",
       "0                1.895  \n",
       "1                2.250  \n",
       "2                2.242  \n",
       "3                2.461  \n",
       "4                2.127  "
      ]
     },
     "execution_count": 23,
     "metadata": {},
     "output_type": "execute_result"
    }
   ],
   "source": [
    "df_happiness.head()"
   ]
  },
  {
   "cell_type": "code",
   "execution_count": 24,
   "metadata": {
    "ExecuteTime": {
     "end_time": "2021-05-27T14:05:12.887604Z",
     "start_time": "2021-05-27T14:05:12.883831Z"
    }
   },
   "outputs": [
    {
     "data": {
      "text/plain": [
       "(144, 18)"
      ]
     },
     "execution_count": 24,
     "metadata": {},
     "output_type": "execute_result"
    }
   ],
   "source": [
    "df_happiness.shape"
   ]
  },
  {
   "cell_type": "code",
   "execution_count": 25,
   "metadata": {},
   "outputs": [
    {
     "data": {
      "text/html": [
       "<div>\n",
       "<style scoped>\n",
       "    .dataframe tbody tr th:only-of-type {\n",
       "        vertical-align: middle;\n",
       "    }\n",
       "\n",
       "    .dataframe tbody tr th {\n",
       "        vertical-align: top;\n",
       "    }\n",
       "\n",
       "    .dataframe thead th {\n",
       "        text-align: right;\n",
       "    }\n",
       "</style>\n",
       "<table border=\"1\" class=\"dataframe\">\n",
       "  <thead>\n",
       "    <tr style=\"text-align: right;\">\n",
       "      <th></th>\n",
       "      <th>id</th>\n",
       "      <th>age</th>\n",
       "      <th>workclass</th>\n",
       "      <th>education</th>\n",
       "      <th>marital_status</th>\n",
       "      <th>occupation</th>\n",
       "      <th>race</th>\n",
       "      <th>sex</th>\n",
       "      <th>hours_per_week</th>\n",
       "      <th>income</th>\n",
       "      <th>country</th>\n",
       "      <th>ladder_score</th>\n",
       "      <th>gdp</th>\n",
       "      <th>social_support</th>\n",
       "      <th>life_expectancy</th>\n",
       "      <th>freedom_of_choice</th>\n",
       "      <th>generosity</th>\n",
       "      <th>perceived_corruption</th>\n",
       "    </tr>\n",
       "  </thead>\n",
       "  <tbody>\n",
       "    <tr>\n",
       "      <th>0</th>\n",
       "      <td>00001</td>\n",
       "      <td>25</td>\n",
       "      <td>Private</td>\n",
       "      <td>11th</td>\n",
       "      <td>Never-married</td>\n",
       "      <td>Machine-op-inspct</td>\n",
       "      <td>Black</td>\n",
       "      <td>Male</td>\n",
       "      <td>40</td>\n",
       "      <td>&lt;=50K</td>\n",
       "      <td>United States</td>\n",
       "      <td>6.951</td>\n",
       "      <td>11.023</td>\n",
       "      <td>0.920</td>\n",
       "      <td>68.200</td>\n",
       "      <td>0.837</td>\n",
       "      <td>0.098</td>\n",
       "      <td>0.698</td>\n",
       "    </tr>\n",
       "    <tr>\n",
       "      <th>1</th>\n",
       "      <td>00002</td>\n",
       "      <td>38</td>\n",
       "      <td>Private</td>\n",
       "      <td>HS-grad</td>\n",
       "      <td>Married-civ-spouse</td>\n",
       "      <td>Farming-fishing</td>\n",
       "      <td>White</td>\n",
       "      <td>Male</td>\n",
       "      <td>50</td>\n",
       "      <td>&lt;=50K</td>\n",
       "      <td>United States</td>\n",
       "      <td>6.951</td>\n",
       "      <td>11.023</td>\n",
       "      <td>0.920</td>\n",
       "      <td>68.200</td>\n",
       "      <td>0.837</td>\n",
       "      <td>0.098</td>\n",
       "      <td>0.698</td>\n",
       "    </tr>\n",
       "    <tr>\n",
       "      <th>2</th>\n",
       "      <td>00003</td>\n",
       "      <td>28</td>\n",
       "      <td>Local-gov</td>\n",
       "      <td>Assoc-acdm</td>\n",
       "      <td>Married-civ-spouse</td>\n",
       "      <td>Protective-serv</td>\n",
       "      <td>White</td>\n",
       "      <td>Male</td>\n",
       "      <td>40</td>\n",
       "      <td>&gt;50K</td>\n",
       "      <td>United States</td>\n",
       "      <td>6.951</td>\n",
       "      <td>11.023</td>\n",
       "      <td>0.920</td>\n",
       "      <td>68.200</td>\n",
       "      <td>0.837</td>\n",
       "      <td>0.098</td>\n",
       "      <td>0.698</td>\n",
       "    </tr>\n",
       "    <tr>\n",
       "      <th>3</th>\n",
       "      <td>00004</td>\n",
       "      <td>44</td>\n",
       "      <td>Private</td>\n",
       "      <td>Some-college</td>\n",
       "      <td>Married-civ-spouse</td>\n",
       "      <td>Machine-op-inspct</td>\n",
       "      <td>Black</td>\n",
       "      <td>Male</td>\n",
       "      <td>40</td>\n",
       "      <td>&gt;50K</td>\n",
       "      <td>United States</td>\n",
       "      <td>6.951</td>\n",
       "      <td>11.023</td>\n",
       "      <td>0.920</td>\n",
       "      <td>68.200</td>\n",
       "      <td>0.837</td>\n",
       "      <td>0.098</td>\n",
       "      <td>0.698</td>\n",
       "    </tr>\n",
       "    <tr>\n",
       "      <th>4</th>\n",
       "      <td>00005</td>\n",
       "      <td>18</td>\n",
       "      <td>Unknown</td>\n",
       "      <td>Some-college</td>\n",
       "      <td>Never-married</td>\n",
       "      <td>Unknown</td>\n",
       "      <td>White</td>\n",
       "      <td>Female</td>\n",
       "      <td>30</td>\n",
       "      <td>&lt;=50K</td>\n",
       "      <td>United States</td>\n",
       "      <td>6.951</td>\n",
       "      <td>11.023</td>\n",
       "      <td>0.920</td>\n",
       "      <td>68.200</td>\n",
       "      <td>0.837</td>\n",
       "      <td>0.098</td>\n",
       "      <td>0.698</td>\n",
       "    </tr>\n",
       "  </tbody>\n",
       "</table>\n",
       "</div>"
      ],
      "text/plain": [
       "      id age  workclass     education      marital_status         occupation  \\\n",
       "0  00001  25    Private          11th       Never-married  Machine-op-inspct   \n",
       "1  00002  38    Private       HS-grad  Married-civ-spouse    Farming-fishing   \n",
       "2  00003  28  Local-gov    Assoc-acdm  Married-civ-spouse    Protective-serv   \n",
       "3  00004  44    Private  Some-college  Married-civ-spouse  Machine-op-inspct   \n",
       "4  00005  18    Unknown  Some-college       Never-married            Unknown   \n",
       "\n",
       "    race     sex hours_per_week income        country ladder_score     gdp  \\\n",
       "0  Black    Male             40  <=50K  United States        6.951  11.023   \n",
       "1  White    Male             50  <=50K  United States        6.951  11.023   \n",
       "2  White    Male             40   >50K  United States        6.951  11.023   \n",
       "3  Black    Male             40   >50K  United States        6.951  11.023   \n",
       "4  White  Female             30  <=50K  United States        6.951  11.023   \n",
       "\n",
       "  social_support life_expectancy freedom_of_choice generosity  \\\n",
       "0          0.920          68.200             0.837      0.098   \n",
       "1          0.920          68.200             0.837      0.098   \n",
       "2          0.920          68.200             0.837      0.098   \n",
       "3          0.920          68.200             0.837      0.098   \n",
       "4          0.920          68.200             0.837      0.098   \n",
       "\n",
       "  perceived_corruption  \n",
       "0                0.698  \n",
       "1                0.698  \n",
       "2                0.698  \n",
       "3                0.698  \n",
       "4                0.698  "
      ]
     },
     "execution_count": 25,
     "metadata": {},
     "output_type": "execute_result"
    }
   ],
   "source": [
    "df_clean_combined.head()"
   ]
  },
  {
   "cell_type": "code",
   "execution_count": 26,
   "metadata": {},
   "outputs": [
    {
     "data": {
      "text/plain": [
       "['report_id',\n",
       " 'census_id',\n",
       " 'country',\n",
       " 'ladder_score',\n",
       " 'gdp',\n",
       " 'social_support',\n",
       " 'life_expectancy',\n",
       " 'freedom_of_choice',\n",
       " 'generosity',\n",
       " 'perceived_corruption',\n",
       " 'ladder_score_dystopia',\n",
       " 'explained_by_gdp',\n",
       " 'explained_by_social_support',\n",
       " 'explained_by_life_expectancy',\n",
       " 'explained_by_freedom_of_choice',\n",
       " 'explained_by_generosity',\n",
       " 'explained_by_perceived_corruption',\n",
       " 'dystopiaplusresidual']"
      ]
     },
     "execution_count": 26,
     "metadata": {},
     "output_type": "execute_result"
    }
   ],
   "source": [
    "# show column names\n",
    "df_happiness.columns.tolist() "
   ]
  },
  {
   "cell_type": "code",
   "execution_count": 27,
   "metadata": {},
   "outputs": [
    {
     "data": {
      "text/plain": [
       "['census_id',\n",
       " 'age',\n",
       " 'workclass',\n",
       " 'fnlwgt',\n",
       " 'education',\n",
       " 'education_num',\n",
       " 'marital_status',\n",
       " 'occupation',\n",
       " 'relationship',\n",
       " 'race',\n",
       " 'sex',\n",
       " 'capital_gain',\n",
       " 'capital_loss',\n",
       " 'hours_per_week',\n",
       " 'income',\n",
       " 'country']"
      ]
     },
     "execution_count": 27,
     "metadata": {},
     "output_type": "execute_result"
    }
   ],
   "source": [
    "# show column names\n",
    "df_census.columns.tolist()"
   ]
  },
  {
   "cell_type": "code",
   "execution_count": 28,
   "metadata": {},
   "outputs": [
    {
     "data": {
      "text/plain": [
       "['id',\n",
       " 'age',\n",
       " 'workclass',\n",
       " 'education',\n",
       " 'marital_status',\n",
       " 'occupation',\n",
       " 'race',\n",
       " 'sex',\n",
       " 'hours_per_week',\n",
       " 'income',\n",
       " 'country',\n",
       " 'ladder_score',\n",
       " 'gdp',\n",
       " 'social_support',\n",
       " 'life_expectancy',\n",
       " 'freedom_of_choice',\n",
       " 'generosity',\n",
       " 'perceived_corruption']"
      ]
     },
     "execution_count": 28,
     "metadata": {},
     "output_type": "execute_result"
    }
   ],
   "source": [
    "# show column names\n",
    "df_clean_combined.columns.tolist()"
   ]
  },
  {
   "cell_type": "code",
   "execution_count": 29,
   "metadata": {},
   "outputs": [
    {
     "data": {
      "text/plain": [
       "[['id', 0],\n",
       " ['age', 0],\n",
       " ['workclass', 0],\n",
       " ['education', 0],\n",
       " ['marital_status', 0],\n",
       " ['occupation', 0],\n",
       " ['race', 0],\n",
       " ['sex', 0],\n",
       " ['hours_per_week', 0],\n",
       " ['income', 0],\n",
       " ['country', 0],\n",
       " ['ladder_score', 0],\n",
       " ['gdp', 0],\n",
       " ['social_support', 0],\n",
       " ['life_expectancy', 0],\n",
       " ['freedom_of_choice', 0],\n",
       " ['generosity', 0],\n",
       " ['perceived_corruption', 0]]"
      ]
     },
     "execution_count": 29,
     "metadata": {},
     "output_type": "execute_result"
    }
   ],
   "source": [
    "# get count of null values for each column\n",
    "[[column,df_clean_combined[column].isnull().sum()] for column in df_clean_combined.columns]"
   ]
  },
  {
   "cell_type": "code",
   "execution_count": 30,
   "metadata": {},
   "outputs": [
    {
     "data": {
      "text/html": [
       "<div>\n",
       "<style scoped>\n",
       "    .dataframe tbody tr th:only-of-type {\n",
       "        vertical-align: middle;\n",
       "    }\n",
       "\n",
       "    .dataframe tbody tr th {\n",
       "        vertical-align: top;\n",
       "    }\n",
       "\n",
       "    .dataframe thead th {\n",
       "        text-align: right;\n",
       "    }\n",
       "</style>\n",
       "<table border=\"1\" class=\"dataframe\">\n",
       "  <thead>\n",
       "    <tr style=\"text-align: right;\">\n",
       "      <th></th>\n",
       "      <th>id</th>\n",
       "      <th>age</th>\n",
       "      <th>workclass</th>\n",
       "      <th>education</th>\n",
       "      <th>marital_status</th>\n",
       "      <th>occupation</th>\n",
       "      <th>race</th>\n",
       "      <th>hours_per_week</th>\n",
       "      <th>income</th>\n",
       "      <th>country</th>\n",
       "      <th>ladder_score</th>\n",
       "      <th>gdp</th>\n",
       "      <th>social_support</th>\n",
       "      <th>life_expectancy</th>\n",
       "      <th>freedom_of_choice</th>\n",
       "      <th>generosity</th>\n",
       "      <th>perceived_corruption</th>\n",
       "      <th>sex_Female</th>\n",
       "      <th>sex_Male</th>\n",
       "    </tr>\n",
       "  </thead>\n",
       "  <tbody>\n",
       "    <tr>\n",
       "      <th>0</th>\n",
       "      <td>00001</td>\n",
       "      <td>25</td>\n",
       "      <td>Private</td>\n",
       "      <td>11th</td>\n",
       "      <td>Never-married</td>\n",
       "      <td>Machine-op-inspct</td>\n",
       "      <td>Black</td>\n",
       "      <td>40</td>\n",
       "      <td>&lt;=50K</td>\n",
       "      <td>United States</td>\n",
       "      <td>6.951</td>\n",
       "      <td>11.023</td>\n",
       "      <td>0.920</td>\n",
       "      <td>68.200</td>\n",
       "      <td>0.837</td>\n",
       "      <td>0.098</td>\n",
       "      <td>0.698</td>\n",
       "      <td>0</td>\n",
       "      <td>1</td>\n",
       "    </tr>\n",
       "    <tr>\n",
       "      <th>1</th>\n",
       "      <td>00002</td>\n",
       "      <td>38</td>\n",
       "      <td>Private</td>\n",
       "      <td>HS-grad</td>\n",
       "      <td>Married-civ-spouse</td>\n",
       "      <td>Farming-fishing</td>\n",
       "      <td>White</td>\n",
       "      <td>50</td>\n",
       "      <td>&lt;=50K</td>\n",
       "      <td>United States</td>\n",
       "      <td>6.951</td>\n",
       "      <td>11.023</td>\n",
       "      <td>0.920</td>\n",
       "      <td>68.200</td>\n",
       "      <td>0.837</td>\n",
       "      <td>0.098</td>\n",
       "      <td>0.698</td>\n",
       "      <td>0</td>\n",
       "      <td>1</td>\n",
       "    </tr>\n",
       "    <tr>\n",
       "      <th>2</th>\n",
       "      <td>00003</td>\n",
       "      <td>28</td>\n",
       "      <td>Local-gov</td>\n",
       "      <td>Assoc-acdm</td>\n",
       "      <td>Married-civ-spouse</td>\n",
       "      <td>Protective-serv</td>\n",
       "      <td>White</td>\n",
       "      <td>40</td>\n",
       "      <td>&gt;50K</td>\n",
       "      <td>United States</td>\n",
       "      <td>6.951</td>\n",
       "      <td>11.023</td>\n",
       "      <td>0.920</td>\n",
       "      <td>68.200</td>\n",
       "      <td>0.837</td>\n",
       "      <td>0.098</td>\n",
       "      <td>0.698</td>\n",
       "      <td>0</td>\n",
       "      <td>1</td>\n",
       "    </tr>\n",
       "    <tr>\n",
       "      <th>3</th>\n",
       "      <td>00004</td>\n",
       "      <td>44</td>\n",
       "      <td>Private</td>\n",
       "      <td>Some-college</td>\n",
       "      <td>Married-civ-spouse</td>\n",
       "      <td>Machine-op-inspct</td>\n",
       "      <td>Black</td>\n",
       "      <td>40</td>\n",
       "      <td>&gt;50K</td>\n",
       "      <td>United States</td>\n",
       "      <td>6.951</td>\n",
       "      <td>11.023</td>\n",
       "      <td>0.920</td>\n",
       "      <td>68.200</td>\n",
       "      <td>0.837</td>\n",
       "      <td>0.098</td>\n",
       "      <td>0.698</td>\n",
       "      <td>0</td>\n",
       "      <td>1</td>\n",
       "    </tr>\n",
       "    <tr>\n",
       "      <th>4</th>\n",
       "      <td>00005</td>\n",
       "      <td>18</td>\n",
       "      <td>Unknown</td>\n",
       "      <td>Some-college</td>\n",
       "      <td>Never-married</td>\n",
       "      <td>Unknown</td>\n",
       "      <td>White</td>\n",
       "      <td>30</td>\n",
       "      <td>&lt;=50K</td>\n",
       "      <td>United States</td>\n",
       "      <td>6.951</td>\n",
       "      <td>11.023</td>\n",
       "      <td>0.920</td>\n",
       "      <td>68.200</td>\n",
       "      <td>0.837</td>\n",
       "      <td>0.098</td>\n",
       "      <td>0.698</td>\n",
       "      <td>1</td>\n",
       "      <td>0</td>\n",
       "    </tr>\n",
       "  </tbody>\n",
       "</table>\n",
       "</div>"
      ],
      "text/plain": [
       "      id age  workclass     education      marital_status         occupation  \\\n",
       "0  00001  25    Private          11th       Never-married  Machine-op-inspct   \n",
       "1  00002  38    Private       HS-grad  Married-civ-spouse    Farming-fishing   \n",
       "2  00003  28  Local-gov    Assoc-acdm  Married-civ-spouse    Protective-serv   \n",
       "3  00004  44    Private  Some-college  Married-civ-spouse  Machine-op-inspct   \n",
       "4  00005  18    Unknown  Some-college       Never-married            Unknown   \n",
       "\n",
       "    race hours_per_week income        country ladder_score     gdp  \\\n",
       "0  Black             40  <=50K  United States        6.951  11.023   \n",
       "1  White             50  <=50K  United States        6.951  11.023   \n",
       "2  White             40   >50K  United States        6.951  11.023   \n",
       "3  Black             40   >50K  United States        6.951  11.023   \n",
       "4  White             30  <=50K  United States        6.951  11.023   \n",
       "\n",
       "  social_support life_expectancy freedom_of_choice generosity  \\\n",
       "0          0.920          68.200             0.837      0.098   \n",
       "1          0.920          68.200             0.837      0.098   \n",
       "2          0.920          68.200             0.837      0.098   \n",
       "3          0.920          68.200             0.837      0.098   \n",
       "4          0.920          68.200             0.837      0.098   \n",
       "\n",
       "  perceived_corruption  sex_Female  sex_Male  \n",
       "0                0.698           0         1  \n",
       "1                0.698           0         1  \n",
       "2                0.698           0         1  \n",
       "3                0.698           0         1  \n",
       "4                0.698           1         0  "
      ]
     },
     "execution_count": 30,
     "metadata": {},
     "output_type": "execute_result"
    }
   ],
   "source": [
    "# us get_dummies to chane change sex to number\n",
    "clean_combined_encoded = pd.get_dummies(df_clean_combined, columns=[\"sex\"])\n",
    "clean_combined_encoded.head()"
   ]
  },
  {
   "cell_type": "code",
   "execution_count": null,
   "metadata": {},
   "outputs": [],
   "source": []
  }
 ],
 "metadata": {
  "kernelspec": {
   "display_name": "Python 3",
   "language": "python",
   "name": "python3"
  },
  "language_info": {
   "codemirror_mode": {
    "name": "ipython",
    "version": 3
   },
   "file_extension": ".py",
   "mimetype": "text/x-python",
   "name": "python",
   "nbconvert_exporter": "python",
   "pygments_lexer": "ipython3",
   "version": "3.7.9"
  },
  "varInspector": {
   "cols": {
    "lenName": 16,
    "lenType": 16,
    "lenVar": 40
   },
   "kernels_config": {
    "python": {
     "delete_cmd_postfix": "",
     "delete_cmd_prefix": "del ",
     "library": "var_list.py",
     "varRefreshCmd": "print(var_dic_list())"
    },
    "r": {
     "delete_cmd_postfix": ") ",
     "delete_cmd_prefix": "rm(",
     "library": "var_list.r",
     "varRefreshCmd": "cat(var_dic_list()) "
    }
   },
   "types_to_exclude": [
    "module",
    "function",
    "builtin_function_or_method",
    "instance",
    "_Feature"
   ],
   "window_display": false
  }
 },
 "nbformat": 4,
 "nbformat_minor": 5
}
